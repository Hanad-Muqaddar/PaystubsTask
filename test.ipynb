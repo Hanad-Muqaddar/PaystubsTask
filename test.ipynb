{
 "cells": [
  {
   "cell_type": "code",
   "execution_count": null,
   "metadata": {},
   "outputs": [],
   "source": [
    "print(\"Hello\")"
   ]
  },
  {
   "cell_type": "code",
   "execution_count": null,
   "metadata": {},
   "outputs": [],
   "source": [
    "date = input(\"Enter Date: \")"
   ]
  },
  {
   "cell_type": "code",
   "execution_count": null,
   "metadata": {},
   "outputs": [],
   "source": [
    "import dateparser"
   ]
  },
  {
   "cell_type": "code",
   "execution_count": null,
   "metadata": {},
   "outputs": [],
   "source": [
    "am = dateparser.parse(date)\n",
    "am"
   ]
  },
  {
   "cell_type": "code",
   "execution_count": null,
   "metadata": {},
   "outputs": [],
   "source": [
    "def parse_and_make_date(date):\n",
    "    am = dateparser.parse(date)\n",
    "    month = am.strftime('%m')\n",
    "    day = am.strftime('%d')\n",
    "    year = am.strftime('%y')\n",
    "    date_format = f\"{day}/{month}/20{year}\"\n",
    "    return date_format"
   ]
  },
  {
   "cell_type": "code",
   "execution_count": null,
   "metadata": {},
   "outputs": [],
   "source": [
    "final_date = parse_and_make_date(date)\n",
    "final_date"
   ]
  },
  {
   "cell_type": "code",
   "execution_count": null,
   "metadata": {},
   "outputs": [],
   "source": [
    "a = 145.230"
   ]
  },
  {
   "cell_type": "code",
   "execution_count": null,
   "metadata": {},
   "outputs": [],
   "source": [
    "float(a)"
   ]
  },
  {
   "cell_type": "code",
   "execution_count": null,
   "metadata": {},
   "outputs": [],
   "source": [
    "def making_two_zer_dec(num):\n",
    "    if type(num) == str:\n",
    "        a = num.split(\".\")\n",
    "        if len(a[-1]) > 1:\n",
    "            return \".\".join(a)\n",
    "        elif len(a[-1]) == 1:\n",
    "            a[-1] = a[-1] + \"0\"\n",
    "            return \".\".join(a)  \n",
    "    elif type(num) == int:\n",
    "        ret_num = format(str(num), \".2f\")\n",
    "        print(ret_num)\n",
    "        return ret_num\n",
    "        \n",
    "def making_two_zer_dec1(num):\n",
    "    ret_num = format(num, \".2f\")\n",
    "    return ret_num"
   ]
  },
  {
   "cell_type": "code",
   "execution_count": null,
   "metadata": {},
   "outputs": [],
   "source": [
    "def comma_seprated(number):\n",
    "    return f\"{number:,}\""
   ]
  },
  {
   "cell_type": "code",
   "execution_count": null,
   "metadata": {},
   "outputs": [],
   "source": [
    "making_two_zer_dec(comma_seprated(round(1580.0, 2)))"
   ]
  },
  {
   "cell_type": "code",
   "execution_count": null,
   "metadata": {},
   "outputs": [],
   "source": [
    "a = making_two_zer_dec1(564.0)\n",
    "print(a)"
   ]
  },
  {
   "cell_type": "code",
   "execution_count": null,
   "metadata": {},
   "outputs": [],
   "source": [
    "pay = 2730 - 547.37 - 39.70 -145.83"
   ]
  },
  {
   "cell_type": "code",
   "execution_count": null,
   "metadata": {},
   "outputs": [],
   "source": [
    "round(pay, 2)"
   ]
  },
  {
   "cell_type": "code",
   "execution_count": null,
   "metadata": {},
   "outputs": [],
   "source": [
    "\n",
    "def making_two_zer_dec1(num):\n",
    "    ret_num = format(num, \".2f\")\n",
    "    return ret_num"
   ]
  },
  {
   "cell_type": "code",
   "execution_count": null,
   "metadata": {},
   "outputs": [],
   "source": [
    "import dateparser\n",
    "def calculate_year_to_date(rate, hours, period_date):\n",
    "    d = dateparser.parse(period_date)\n",
    "    current_month = d.strftime('%m')\n",
    "    current_day = d.strftime('%d')\n",
    "    if int(current_day) > 15:\n",
    "        periods = int(current_month) * 2\n",
    "    else:\n",
    "        periods = (int(current_month) - 1) * 2 + 1\n",
    "    \n",
    "    year_t_date = rate * periods * hours\n",
    "    y_t_d = f\"{year_t_date:,}\"\n",
    "    return y_t_d"
   ]
  },
  {
   "cell_type": "code",
   "execution_count": null,
   "metadata": {},
   "outputs": [],
   "source": [
    "y_t_d = calculate_year_to_date(34, 78, \"nov 1\")\n",
    "y_t_d"
   ]
  },
  {
   "cell_type": "code",
   "execution_count": null,
   "metadata": {},
   "outputs": [],
   "source": [
    "def return_float(number):\n",
    "    d = number.replace(\",\",\"\")\n",
    "    return float(d)"
   ]
  },
  {
   "cell_type": "code",
   "execution_count": null,
   "metadata": {},
   "outputs": [],
   "source": [
    "a = return_float(y_t_d)\n",
    "type(a)"
   ]
  },
  {
   "cell_type": "code",
   "execution_count": null,
   "metadata": {},
   "outputs": [],
   "source": [
    "def percentage(percent, whole):\n",
    "    return (percent * whole) / 100.0"
   ]
  },
  {
   "cell_type": "code",
   "execution_count": null,
   "metadata": {},
   "outputs": [],
   "source": [
    "federal_first = 15\n",
    "province_first = 5.05\n",
    "federal_second = 20.5\n",
    "province_second = 9.15\n",
    "federal_three = 26\n",
    "province_three = 11.16\n",
    "federal_four = 29\n",
    "province_four = 12.16\n",
    "federal_five = 33\n",
    "province_five = 13.16"
   ]
  },
  {
   "cell_type": "code",
   "execution_count": null,
   "metadata": {},
   "outputs": [],
   "source": [
    "def federal_income_tax_calculator_y_t_d(gross_pay):\n",
    "    if gross_pay < 50197:\n",
    "        amount = percentage(federal_first, gross_pay)\n",
    "        return amount , federal_first\n",
    "    elif gross_pay > 50197 and gross_pay < 100392:\n",
    "        first_amount = 50197\n",
    "        second_amount = gross_pay - 50197\n",
    "        first_amount_cal = percentage(federal_first, first_amount)\n",
    "        second_amount_cal = percentage(federal_second, second_amount)\n",
    "        total_amount = first_amount_cal + second_amount_cal\n",
    "        return total_amount , federal_second\n",
    "    elif gross_pay > 100392 and gross_pay < 155625:\n",
    "        first_amount = 50197\n",
    "        second_amount = 50195\n",
    "        third_amount = gross_pay - 100392\n",
    "        first_amount_cal = percentage(federal_first, first_amount)\n",
    "        second_amount_cal = percentage(federal_second, second_amount)\n",
    "        third_amount_cal = percentage(federal_three, third_amount)\n",
    "        total_amount = first_amount_cal + second_amount_cal + third_amount_cal\n",
    "        return total_amount , federal_three\n",
    "    elif gross_pay > 155625 and gross_pay < 221708:\n",
    "        first_amount = 50197\n",
    "        second_amount = 50195\n",
    "        third_amount = 55233\n",
    "        fourth_amount = gross_pay - 155625\n",
    "        first_amount_cal = percentage(federal_first, first_amount)\n",
    "        second_amount_cal = percentage(federal_second, second_amount)\n",
    "        third_amount_cal = percentage(federal_three, third_amount)\n",
    "        fourth_amount_cal = percentage(federal_four, fourth_amount)\n",
    "        total_amount = first_amount_cal + second_amount_cal + third_amount_cal + fourth_amount_cal\n",
    "        return total_amount , federal_four\n",
    "    elif gross_pay > 221708:\n",
    "        first_amount = 50197\n",
    "        second_amount = 50195\n",
    "        third_amount = 55233\n",
    "        fourth_amount = 66083\n",
    "        fifth_amount = gross_pay - 221708\n",
    "        first_amount_cal = percentage(federal_first, first_amount)\n",
    "        second_amount_cal = percentage(federal_second, second_amount)\n",
    "        third_amount_cal = percentage(federal_three, third_amount)\n",
    "        fourth_amount_cal = percentage(federal_four, fourth_amount)\n",
    "        fifth_amount_cal = percentage(federal_five, fifth_amount)\n",
    "        total_amount = first_amount_cal + second_amount_cal + third_amount_cal + fourth_amount_cal + fifth_amount_cal\n",
    "        return total_amount , federal_five"
   ]
  },
  {
   "cell_type": "code",
   "execution_count": null,
   "metadata": {},
   "outputs": [],
   "source": [
    "def province_income_tax_calculator_y_t_d(gross_pay):\n",
    "    if gross_pay < 46226:\n",
    "        amount = percentage(province_first, gross_pay)\n",
    "        return amount , province_first\n",
    "    elif gross_pay >= 46227 and gross_pay <= 92454:\n",
    "        first_amount = 46226\n",
    "        second_amount = gross_pay - first_amount\n",
    "        first_amount_cal = percentage(province_first, first_amount)\n",
    "        second_amount_cal = percentage(province_second, second_amount)\n",
    "        total_amount = first_amount_cal + second_amount_cal\n",
    "        return total_amount , province_second\n",
    "    elif gross_pay >= 92455 and gross_pay <= 150000:\n",
    "        first_amount = 46226\n",
    "        second_amount = 46229\n",
    "        third_amount = gross_pay - 92455\n",
    "        first_amount_cal = percentage(province_first, first_amount)\n",
    "        second_amount_cal = percentage(province_second, second_amount)\n",
    "        third_amount_cal = percentage(province_three, third_amount)\n",
    "        total_amount = first_amount_cal + second_amount_cal + third_amount_cal\n",
    "        return total_amount , province_three\n",
    "    elif gross_pay >= 150001 and gross_pay <= 220000:\n",
    "        first_amount = 46226\n",
    "        second_amount = 46229\n",
    "        third_amount = 57546\n",
    "        fourth_amount = gross_pay - 150001\n",
    "        first_amount_cal = percentage(province_first, first_amount)\n",
    "        second_amount_cal = percentage(province_second, second_amount)\n",
    "        third_amount_cal = percentage(province_three, third_amount)\n",
    "        fourth_amount_cal = percentage(province_four , fourth_amount)\n",
    "        total_amount =  first_amount_cal + second_amount_cal + third_amount_cal + fourth_amount_cal\n",
    "        return total_amount , province_four\n",
    "    elif gross_pay > 220000:\n",
    "        first_amount = 46226\n",
    "        second_amount = 46229\n",
    "        third_amount = 57546\n",
    "        fourth_amount = 69999\n",
    "        fifth_amount = gross_pay - 220000\n",
    "        first_amount_cal = percentage(province_first, first_amount)\n",
    "        second_amount_cal = percentage(province_second, second_amount)\n",
    "        third_amount_cal = percentage(province_three, third_amount)\n",
    "        fourth_amount_cal = percentage(province_four , fourth_amount)\n",
    "        fifth_amount_cal = percentage(province_five, fifth_amount)\n",
    "        total_amount =  first_amount_cal + second_amount_cal + third_amount_cal + fourth_amount_cal + fifth_amount_cal\n",
    "        return total_amount , province_five"
   ]
  },
  {
   "cell_type": "code",
   "execution_count": null,
   "metadata": {},
   "outputs": [],
   "source": [
    "a, b = federal_income_tax_calculator_y_t_d(250000)\n",
    "c, d = province_income_tax_calculator_y_t_d(250000)\n",
    "\n",
    "income_tax_y_t_d = a + c\n",
    "print(income_tax_y_t_d)"
   ]
  },
  {
   "cell_type": "code",
   "execution_count": null,
   "metadata": {},
   "outputs": [],
   "source": [
    "class abc:\n",
    "\n",
    "    def a (self, a):\n",
    "        print(a)\n",
    "    \n",
    "    def b(self, c):\n",
    "        self.a(c)\n",
    "\n",
    "\n",
    "a = abc()\n",
    "a.b(\"This is boy\")"
   ]
  },
  {
   "cell_type": "code",
   "execution_count": null,
   "metadata": {},
   "outputs": [],
   "source": [
    "sin =  \"123456789\""
   ]
  },
  {
   "cell_type": "code",
   "execution_count": null,
   "metadata": {},
   "outputs": [],
   "source": [
    "def making_sin(sin_number):\n",
    "    sin_1 = sin_number[:3]\n",
    "    sin_2 = sin_number[3:6]\n",
    "    sin_3 = sin_number[6:]\n",
    "    return sin_1, sin_2, sin_3"
   ]
  },
  {
   "cell_type": "code",
   "execution_count": null,
   "metadata": {},
   "outputs": [],
   "source": [
    "making_sin(sin)"
   ]
  },
  {
   "cell_type": "code",
   "execution_count": null,
   "metadata": {},
   "outputs": [],
   "source": [
    "# from reportlab.lib.pagesizes import letter\n",
    "# from reportlab.pdfgen import canvas\n",
    "\n",
    "# def convert_word_to_pdf(input_file, output_file):\n",
    "#   c = canvas.Canvas(output_file, pagesize=letter)\n",
    "\n",
    "#   # insert code to read the word document and add the content to the canvas here\n",
    "\n",
    "#   c.showPage()\n",
    "#   c.save()\n",
    "\n",
    "# convert_word_to_pdf(\"input.docx\", \"output.pdf\")\n"
   ]
  },
  {
   "cell_type": "code",
   "execution_count": null,
   "metadata": {},
   "outputs": [],
   "source": [
    "a = \"00.00\"\n",
    "round(a)"
   ]
  },
  {
   "cell_type": "code",
   "execution_count": null,
   "metadata": {},
   "outputs": [],
   "source": [
    "t4_name_1 = 2021\n",
    "t = str(t4_name_1)[2:]\n",
    "t"
   ]
  },
  {
   "cell_type": "code",
   "execution_count": null,
   "metadata": {},
   "outputs": [],
   "source": [
    "a = 3\n",
    "for i in range(a):\n",
    "    print(i)"
   ]
  },
  {
   "cell_type": "code",
   "execution_count": null,
   "metadata": {},
   "outputs": [],
   "source": [
    "def breaking_number(num):\n",
    "    a = str(num).split(\".\")\n",
    "    if len(a) == 1:\n",
    "        before_point = a[0]\n",
    "        after_point = \"00\"\n",
    "        return before_point, after_point\n",
    "    before_point = a[0]\n",
    "    after_point = a[-1][:2]\n",
    "    return before_point, after_point\n",
    "\n",
    "a, b = breaking_number(4583.)\n",
    "print(a)\n",
    "print(b)"
   ]
  },
  {
   "cell_type": "code",
   "execution_count": 1,
   "metadata": {},
   "outputs": [
    {
     "ename": "ImportError",
     "evalue": "cannot import name 'Rates' from 'Constants' (c:\\Users\\HP\\Desktop\\PAYSTUB\\Constants.py)",
     "output_type": "error",
     "traceback": [
      "\u001b[1;31m---------------------------------------------------------------------------\u001b[0m",
      "\u001b[1;31mImportError\u001b[0m                               Traceback (most recent call last)",
      "\u001b[1;32m~\\AppData\\Local\\Temp\\ipykernel_4968\\1506034766.py\u001b[0m in \u001b[0;36m<module>\u001b[1;34m\u001b[0m\n\u001b[0;32m      7\u001b[0m \u001b[1;33m\u001b[0m\u001b[0m\n\u001b[0;32m      8\u001b[0m \u001b[1;33m\u001b[0m\u001b[0m\n\u001b[1;32m----> 9\u001b[1;33m \u001b[0mrate\u001b[0m\u001b[1;33m,\u001b[0m \u001b[0mmax\u001b[0m \u001b[1;33m=\u001b[0m \u001b[0mgetting_cpprate_and_max_deductions\u001b[0m\u001b[1;33m(\u001b[0m\u001b[1;36m2022\u001b[0m\u001b[1;33m)\u001b[0m\u001b[1;33m\u001b[0m\u001b[1;33m\u001b[0m\u001b[0m\n\u001b[0m\u001b[0;32m     10\u001b[0m \u001b[0mprint\u001b[0m\u001b[1;33m(\u001b[0m\u001b[0mrate\u001b[0m\u001b[1;33m)\u001b[0m\u001b[1;33m\u001b[0m\u001b[1;33m\u001b[0m\u001b[0m\n\u001b[0;32m     11\u001b[0m \u001b[0mprint\u001b[0m\u001b[1;33m(\u001b[0m\u001b[0mmax\u001b[0m\u001b[1;33m)\u001b[0m\u001b[1;33m\u001b[0m\u001b[1;33m\u001b[0m\u001b[0m\n",
      "\u001b[1;32m~\\AppData\\Local\\Temp\\ipykernel_4968\\1506034766.py\u001b[0m in \u001b[0;36mgetting_cpprate_and_max_deductions\u001b[1;34m(year)\u001b[0m\n\u001b[0;32m      1\u001b[0m \u001b[1;32mdef\u001b[0m \u001b[0mgetting_cpprate_and_max_deductions\u001b[0m\u001b[1;33m(\u001b[0m\u001b[0myear\u001b[0m\u001b[1;33m)\u001b[0m\u001b[1;33m:\u001b[0m\u001b[1;33m\u001b[0m\u001b[1;33m\u001b[0m\u001b[0m\n\u001b[1;32m----> 2\u001b[1;33m     \u001b[1;32mfrom\u001b[0m \u001b[0mConstants\u001b[0m \u001b[1;32mimport\u001b[0m \u001b[0mRates\u001b[0m\u001b[1;33m\u001b[0m\u001b[1;33m\u001b[0m\u001b[0m\n\u001b[0m\u001b[0;32m      3\u001b[0m     \u001b[1;32mfor\u001b[0m \u001b[0mi\u001b[0m \u001b[1;32min\u001b[0m \u001b[0mRates\u001b[0m\u001b[1;33m[\u001b[0m\u001b[1;36m1\u001b[0m\u001b[1;33m]\u001b[0m\u001b[1;33m:\u001b[0m\u001b[1;33m\u001b[0m\u001b[1;33m\u001b[0m\u001b[0m\n\u001b[0;32m      4\u001b[0m         \u001b[1;32mif\u001b[0m \u001b[0mi\u001b[0m\u001b[1;33m[\u001b[0m\u001b[1;34m'year'\u001b[0m\u001b[1;33m]\u001b[0m \u001b[1;33m==\u001b[0m \u001b[0myear\u001b[0m\u001b[1;33m:\u001b[0m\u001b[1;33m\u001b[0m\u001b[1;33m\u001b[0m\u001b[0m\n\u001b[0;32m      5\u001b[0m             \u001b[1;32mreturn\u001b[0m \u001b[0mi\u001b[0m\u001b[1;33m[\u001b[0m\u001b[1;34m'cpp_rate'\u001b[0m\u001b[1;33m]\u001b[0m\u001b[1;33m,\u001b[0m \u001b[0mi\u001b[0m\u001b[1;33m[\u001b[0m\u001b[1;34m'max_deduction'\u001b[0m\u001b[1;33m]\u001b[0m\u001b[1;33m\u001b[0m\u001b[1;33m\u001b[0m\u001b[0m\n",
      "\u001b[1;31mImportError\u001b[0m: cannot import name 'Rates' from 'Constants' (c:\\Users\\HP\\Desktop\\PAYSTUB\\Constants.py)"
     ]
    }
   ],
   "source": [
    "def getting_cpprate_and_max_deductions(year):\n",
    "    from Constants import Rates\n",
    "    for i in Rates[1]:\n",
    "        if i['year'] == year:\n",
    "            return i['cpp_rate'], i['max_deduction'] \n",
    "\n",
    "\n",
    "\n",
    "rate, max = getting_cpprate_and_max_deductions(2022)\n",
    "print(rate)\n",
    "print(max)\n"
   ]
  },
  {
   "cell_type": "code",
   "execution_count": null,
   "metadata": {},
   "outputs": [],
   "source": []
  }
 ],
 "metadata": {
  "kernelspec": {
   "display_name": "Python 3.9.13 ('base')",
   "language": "python",
   "name": "python3"
  },
  "language_info": {
   "codemirror_mode": {
    "name": "ipython",
    "version": 3
   },
   "file_extension": ".py",
   "mimetype": "text/x-python",
   "name": "python",
   "nbconvert_exporter": "python",
   "pygments_lexer": "ipython3",
   "version": "3.9.13"
  },
  "orig_nbformat": 4,
  "vscode": {
   "interpreter": {
    "hash": "dc07d24e2f18896857f0b2a651fe84ba40ce7b297e58d8804a308c8039f752a6"
   }
  }
 },
 "nbformat": 4,
 "nbformat_minor": 2
}
