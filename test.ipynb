{
 "cells": [
  {
   "cell_type": "code",
   "execution_count": 21,
   "metadata": {},
   "outputs": [],
   "source": [
    "def ret_bank_name(name):\n",
    "    name = name.split(\" \")\n",
    "    try:\n",
    "        bnk_1 = \" \".join(name[:3])\n",
    "    except:\n",
    "        bnk_1 = \"\"\n",
    "    try:\n",
    "        bnk_2 = \" \".join(name[3:7])\n",
    "    except:\n",
    "        bnk_2 = \"\"\n",
    "    try:\n",
    "        bnk_3 = \" \".join(name[7:])\n",
    "    except:\n",
    "        bnk_3 = \"\"\n",
    "    return bnk_1, bnk_2, bnk_3"
   ]
  },
  {
   "cell_type": "code",
   "execution_count": 22,
   "metadata": {},
   "outputs": [],
   "source": [
    "bnk_n = \"LONDON POND MILLS 1086 COMMISSIONERS ROAD EAST LONDON, ON   N5Z 4W8\""
   ]
  },
  {
   "cell_type": "code",
   "execution_count": 23,
   "metadata": {},
   "outputs": [],
   "source": [
    "a,b,c = ret_bank_name(bnk_n)"
   ]
  },
  {
   "cell_type": "code",
   "execution_count": 24,
   "metadata": {},
   "outputs": [
    {
     "data": {
      "text/plain": [
       "'LONDON, ON   N5Z 4W8'"
      ]
     },
     "execution_count": 24,
     "metadata": {},
     "output_type": "execute_result"
    }
   ],
   "source": [
    "c"
   ]
  },
  {
   "cell_type": "code",
   "execution_count": 25,
   "metadata": {},
   "outputs": [],
   "source": [
    "def making_address(address):\n",
    "    address_list = address.split(\" \")\n",
    "    middle = int(len(address_list)/2)\n",
    "    address_1 = address_list[:middle]\n",
    "    address_2 = address_list[middle:]\n",
    "    address_1_f = \" \".join(address_1)\n",
    "    address_2_f = \" \".join(address_2)\n",
    "    return address_1_f, address_2_f"
   ]
  },
  {
   "cell_type": "code",
   "execution_count": null,
   "metadata": {},
   "outputs": [],
   "source": []
  }
 ],
 "metadata": {
  "kernelspec": {
   "display_name": "base",
   "language": "python",
   "name": "python3"
  },
  "language_info": {
   "codemirror_mode": {
    "name": "ipython",
    "version": 3
   },
   "file_extension": ".py",
   "mimetype": "text/x-python",
   "name": "python",
   "nbconvert_exporter": "python",
   "pygments_lexer": "ipython3",
   "version": "3.9.13"
  },
  "orig_nbformat": 4,
  "vscode": {
   "interpreter": {
    "hash": "dc07d24e2f18896857f0b2a651fe84ba40ce7b297e58d8804a308c8039f752a6"
   }
  }
 },
 "nbformat": 4,
 "nbformat_minor": 2
}
