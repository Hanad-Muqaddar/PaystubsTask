{
 "cells": [
  {
   "cell_type": "code",
   "execution_count": 21,
   "metadata": {},
   "outputs": [],
   "source": [
    "def ret_bank_name(name):\n",
    "    name = name.split(\" \")\n",
    "    try:\n",
    "        bnk_1 = \" \".join(name[:3])\n",
    "    except:\n",
    "        bnk_1 = \"\"\n",
    "    try:\n",
    "        bnk_2 = \" \".join(name[3:7])\n",
    "    except:\n",
    "        bnk_2 = \"\"\n",
    "    try:\n",
    "        bnk_3 = \" \".join(name[7:])\n",
    "    except:\n",
    "        bnk_3 = \"\"\n",
    "    return bnk_1, bnk_2, bnk_3"
   ]
  },
  {
   "cell_type": "code",
   "execution_count": 22,
   "metadata": {},
   "outputs": [],
   "source": [
    "bnk_n = \"LONDON POND MILLS 1086 COMMISSIONERS ROAD EAST LONDON, ON   N5Z 4W8\""
   ]
  },
  {
   "cell_type": "code",
   "execution_count": 23,
   "metadata": {},
   "outputs": [],
   "source": [
    "a,b,c = ret_bank_name(bnk_n)"
   ]
  },
  {
   "cell_type": "code",
   "execution_count": 24,
   "metadata": {},
   "outputs": [
    {
     "data": {
      "text/plain": [
       "'LONDON, ON   N5Z 4W8'"
      ]
     },
     "execution_count": 24,
     "metadata": {},
     "output_type": "execute_result"
    }
   ],
   "source": [
    "c"
   ]
  },
  {
   "cell_type": "code",
   "execution_count": 26,
   "metadata": {},
   "outputs": [],
   "source": [
    "def making_address(address):\n",
    "    address_list = address.split(\" \")\n",
    "    middle = int(len(address_list)/2)\n",
    "    address_1 = address_list[:middle]\n",
    "    address_2 = address_list[middle:]\n",
    "    address_1_f = \" \".join(address_1)\n",
    "    address_2_f = \" \".join(address_2)\n",
    "    return address_1_f, address_2_f"
   ]
  },
  {
   "cell_type": "code",
   "execution_count": 27,
   "metadata": {},
   "outputs": [],
   "source": [
    "add = \"779 KHAN CRES MISSISSAUGA ON L5V 2R2\""
   ]
  },
  {
   "cell_type": "code",
   "execution_count": 28,
   "metadata": {},
   "outputs": [],
   "source": [
    "ad1, ad2 = making_address(add)"
   ]
  },
  {
   "cell_type": "code",
   "execution_count": 33,
   "metadata": {},
   "outputs": [],
   "source": [
    "import random\n",
    "def mak_acc(num):\n",
    "    num_1 = random.randint(100,999)\n",
    "    num_2 = random.randint(100,999)\n",
    "    account_number = f\"{num_1}-{num_2}{num}\"\n",
    "    "
   ]
  },
  {
   "cell_type": "code",
   "execution_count": 37,
   "metadata": {},
   "outputs": [
    {
     "name": "stdout",
     "output_type": "stream",
     "text": [
      "692-8751234\n"
     ]
    }
   ],
   "source": [
    "mak_acc(1234)"
   ]
  },
  {
   "cell_type": "code",
   "execution_count": 43,
   "metadata": {},
   "outputs": [],
   "source": [
    "from calendar import monthrange\n",
    "num_days = monthrange(2019, 4)"
   ]
  },
  {
   "cell_type": "code",
   "execution_count": 51,
   "metadata": {},
   "outputs": [
    {
     "data": {
      "text/plain": [
       "12"
      ]
     },
     "execution_count": 51,
     "metadata": {},
     "output_type": "execute_result"
    }
   ],
   "source": [
    "from time import strptime\n",
    "\n",
    "strptime('','%b').tm_mon"
   ]
  },
  {
   "cell_type": "code",
   "execution_count": 73,
   "metadata": {},
   "outputs": [],
   "source": [
    "def making_d(input):\n",
    "    from calendar import monthrange\n",
    "    from time import strptime\n",
    "    d = input.split(\" \")\n",
    "    month = d[0][:3]\n",
    "    year = d[1]\n",
    "    month_number = strptime(month,'%b').tm_mon\n",
    "    num_days = monthrange(int(year), month_number)[1]\n",
    "    ret_string = f\"{month.upper()} 1/{year[2:]} - {month.upper()} {num_days}/{year[2:]}\"\n",
    "    return ret_string\n",
    "\n",
    "    "
   ]
  },
  {
   "cell_type": "code",
   "execution_count": 74,
   "metadata": {},
   "outputs": [
    {
     "name": "stdout",
     "output_type": "stream",
     "text": [
      "FEB 1/23 - FEB 28/23\n"
     ]
    }
   ],
   "source": [
    "making_d(\"feburary 2023\")"
   ]
  },
  {
   "cell_type": "code",
   "execution_count": null,
   "metadata": {},
   "outputs": [],
   "source": []
  }
 ],
 "metadata": {
  "kernelspec": {
   "display_name": "base",
   "language": "python",
   "name": "python3"
  },
  "language_info": {
   "codemirror_mode": {
    "name": "ipython",
    "version": 3
   },
   "file_extension": ".py",
   "mimetype": "text/x-python",
   "name": "python",
   "nbconvert_exporter": "python",
   "pygments_lexer": "ipython3",
   "version": "3.9.13"
  },
  "orig_nbformat": 4,
  "vscode": {
   "interpreter": {
    "hash": "dc07d24e2f18896857f0b2a651fe84ba40ce7b297e58d8804a308c8039f752a6"
   }
  }
 },
 "nbformat": 4,
 "nbformat_minor": 2
}
