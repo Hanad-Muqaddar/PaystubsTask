{
 "cells": [
  {
   "cell_type": "code",
   "execution_count": 18,
   "metadata": {},
   "outputs": [
    {
     "name": "stdout",
     "output_type": "stream",
     "text": [
      "Hello\n"
     ]
    }
   ],
   "source": [
    "print(\"Hello\")"
   ]
  },
  {
   "cell_type": "code",
   "execution_count": 19,
   "metadata": {},
   "outputs": [],
   "source": [
    "date = input(\"Enter Date: \")"
   ]
  },
  {
   "cell_type": "code",
   "execution_count": 20,
   "metadata": {},
   "outputs": [],
   "source": [
    "import dateparser"
   ]
  },
  {
   "cell_type": "code",
   "execution_count": 21,
   "metadata": {},
   "outputs": [
    {
     "data": {
      "text/plain": [
       "datetime.datetime(2022, 11, 1, 0, 0)"
      ]
     },
     "execution_count": 21,
     "metadata": {},
     "output_type": "execute_result"
    }
   ],
   "source": [
    "am = dateparser.parse(date)\n",
    "am"
   ]
  },
  {
   "cell_type": "code",
   "execution_count": 22,
   "metadata": {},
   "outputs": [],
   "source": [
    "def parse_and_make_date(date):\n",
    "    am = dateparser.parse(date)\n",
    "    month = am.strftime('%m')\n",
    "    day = am.strftime('%d')\n",
    "    year = am.strftime('%y')\n",
    "    date_format = f\"{day}/{month}/20{year}\"\n",
    "    return date_format"
   ]
  },
  {
   "cell_type": "code",
   "execution_count": 23,
   "metadata": {},
   "outputs": [
    {
     "data": {
      "text/plain": [
       "'01/11/2022'"
      ]
     },
     "execution_count": 23,
     "metadata": {},
     "output_type": "execute_result"
    }
   ],
   "source": [
    "final_date = parse_and_make_date(date)\n",
    "final_date"
   ]
  },
  {
   "cell_type": "code",
   "execution_count": 3,
   "metadata": {},
   "outputs": [],
   "source": [
    "a = 145.230"
   ]
  },
  {
   "cell_type": "code",
   "execution_count": 4,
   "metadata": {},
   "outputs": [
    {
     "data": {
      "text/plain": [
       "145.23"
      ]
     },
     "execution_count": 4,
     "metadata": {},
     "output_type": "execute_result"
    }
   ],
   "source": [
    "float(a)"
   ]
  },
  {
   "cell_type": "code",
   "execution_count": 36,
   "metadata": {},
   "outputs": [],
   "source": [
    "def making_two_zer_dec(num):\n",
    "    if type(num) == str:\n",
    "        a = num.split(\".\")\n",
    "        if len(a[-1]) > 1:\n",
    "            return \".\".join(a)\n",
    "        elif len(a[-1]) == 1:\n",
    "            a[-1] = a[-1] + \"0\"\n",
    "            return \".\".join(a)  \n",
    "    elif type(num) == int:\n",
    "        ret_num = format(str(num), \".2f\")\n",
    "        print(ret_num)\n",
    "        return ret_num\n",
    "        \n",
    "def making_two_zer_dec1(num):\n",
    "    ret_num = format(num, \".2f\")\n",
    "    return ret_num"
   ]
  },
  {
   "cell_type": "code",
   "execution_count": 37,
   "metadata": {},
   "outputs": [],
   "source": [
    "def comma_seprated(number):\n",
    "    return f\"{number:,}\""
   ]
  },
  {
   "cell_type": "code",
   "execution_count": 38,
   "metadata": {},
   "outputs": [
    {
     "data": {
      "text/plain": [
       "'1,580.00'"
      ]
     },
     "execution_count": 38,
     "metadata": {},
     "output_type": "execute_result"
    }
   ],
   "source": [
    "making_two_zer_dec(comma_seprated(round(1580.0, 2)))"
   ]
  },
  {
   "cell_type": "code",
   "execution_count": 39,
   "metadata": {},
   "outputs": [
    {
     "name": "stdout",
     "output_type": "stream",
     "text": [
      "564.00\n"
     ]
    }
   ],
   "source": [
    "a = making_two_zer_dec1(564.0)\n",
    "print(a)"
   ]
  },
  {
   "cell_type": "code",
   "execution_count": 42,
   "metadata": {},
   "outputs": [],
   "source": [
    "pay = 2730 - 547.37 - 39.70 -145.83"
   ]
  },
  {
   "cell_type": "code",
   "execution_count": 44,
   "metadata": {},
   "outputs": [
    {
     "data": {
      "text/plain": [
       "1997.1"
      ]
     },
     "execution_count": 44,
     "metadata": {},
     "output_type": "execute_result"
    }
   ],
   "source": [
    "round(pay, 2)"
   ]
  },
  {
   "cell_type": "code",
   "execution_count": 45,
   "metadata": {},
   "outputs": [],
   "source": [
    "\n",
    "def making_two_zer_dec1(num):\n",
    "    ret_num = format(num, \".2f\")\n",
    "    return ret_num"
   ]
  },
  {
   "cell_type": "code",
   "execution_count": 3,
   "metadata": {},
   "outputs": [],
   "source": [
    "import dateparser\n",
    "def calculate_year_to_date(rate, hours, period_date):\n",
    "    d = dateparser.parse(period_date)\n",
    "    current_month = d.strftime('%m')\n",
    "    current_day = d.strftime('%d')\n",
    "    if int(current_day) > 15:\n",
    "        periods = int(current_month) * 2\n",
    "    else:\n",
    "        periods = (int(current_month) - 1) * 2 + 1\n",
    "    \n",
    "    year_t_date = rate * periods * hours\n",
    "    y_t_d = f\"{year_t_date:,}\"\n",
    "    return y_t_d"
   ]
  },
  {
   "cell_type": "code",
   "execution_count": 4,
   "metadata": {},
   "outputs": [
    {
     "data": {
      "text/plain": [
       "'55,692'"
      ]
     },
     "execution_count": 4,
     "metadata": {},
     "output_type": "execute_result"
    }
   ],
   "source": [
    "y_t_d = calculate_year_to_date(34, 78, \"nov 1\")\n",
    "y_t_d"
   ]
  },
  {
   "cell_type": "code",
   "execution_count": 6,
   "metadata": {},
   "outputs": [],
   "source": [
    "def return_float(number):\n",
    "    d = number.replace(\",\",\"\")\n",
    "    return float(d)"
   ]
  },
  {
   "cell_type": "code",
   "execution_count": 8,
   "metadata": {},
   "outputs": [
    {
     "data": {
      "text/plain": [
       "float"
      ]
     },
     "execution_count": 8,
     "metadata": {},
     "output_type": "execute_result"
    }
   ],
   "source": [
    "a = return_float(y_t_d)\n",
    "type(a)"
   ]
  },
  {
   "cell_type": "code",
   "execution_count": 8,
   "metadata": {},
   "outputs": [],
   "source": [
    "def percentage(percent, whole):\n",
    "    return (percent * whole) / 100.0"
   ]
  },
  {
   "cell_type": "code",
   "execution_count": 9,
   "metadata": {},
   "outputs": [],
   "source": [
    "federal_first = 15\n",
    "province_first = 5.05\n",
    "federal_second = 20.5\n",
    "province_second = 9.15\n",
    "federal_three = 26\n",
    "province_three = 11.16\n",
    "federal_four = 29\n",
    "province_four = 12.16\n",
    "federal_five = 33\n",
    "province_five = 13.16"
   ]
  },
  {
   "cell_type": "code",
   "execution_count": 23,
   "metadata": {},
   "outputs": [],
   "source": [
    "def federal_income_tax_calculator_y_t_d(gross_pay):\n",
    "    if gross_pay < 50197:\n",
    "        amount = percentage(federal_first, gross_pay)\n",
    "        return amount , federal_first\n",
    "    elif gross_pay > 50197 and gross_pay < 100392:\n",
    "        first_amount = 50197\n",
    "        second_amount = gross_pay - 50197\n",
    "        first_amount_cal = percentage(federal_first, first_amount)\n",
    "        second_amount_cal = percentage(federal_second, second_amount)\n",
    "        total_amount = first_amount_cal + second_amount_cal\n",
    "        return total_amount , federal_second\n",
    "    elif gross_pay > 100392 and gross_pay < 155625:\n",
    "        first_amount = 50197\n",
    "        second_amount = 50195\n",
    "        third_amount = gross_pay - 100392\n",
    "        first_amount_cal = percentage(federal_first, first_amount)\n",
    "        second_amount_cal = percentage(federal_second, second_amount)\n",
    "        third_amount_cal = percentage(federal_three, third_amount)\n",
    "        total_amount = first_amount_cal + second_amount_cal + third_amount_cal\n",
    "        return total_amount , federal_three\n",
    "    elif gross_pay > 155625 and gross_pay < 221708:\n",
    "        first_amount = 50197\n",
    "        second_amount = 50195\n",
    "        third_amount = 55233\n",
    "        fourth_amount = gross_pay - 155625\n",
    "        first_amount_cal = percentage(federal_first, first_amount)\n",
    "        second_amount_cal = percentage(federal_second, second_amount)\n",
    "        third_amount_cal = percentage(federal_three, third_amount)\n",
    "        fourth_amount_cal = percentage(federal_four, fourth_amount)\n",
    "        total_amount = first_amount_cal + second_amount_cal + third_amount_cal + fourth_amount_cal\n",
    "        return total_amount , federal_four\n",
    "    elif gross_pay > 221708:\n",
    "        first_amount = 50197\n",
    "        second_amount = 50195\n",
    "        third_amount = 55233\n",
    "        fourth_amount = 66083\n",
    "        fifth_amount = gross_pay - 221708\n",
    "        first_amount_cal = percentage(federal_first, first_amount)\n",
    "        second_amount_cal = percentage(federal_second, second_amount)\n",
    "        third_amount_cal = percentage(federal_three, third_amount)\n",
    "        fourth_amount_cal = percentage(federal_four, fourth_amount)\n",
    "        fifth_amount_cal = percentage(federal_five, fifth_amount)\n",
    "        total_amount = first_amount_cal + second_amount_cal + third_amount_cal + fourth_amount_cal + fifth_amount_cal\n",
    "        return total_amount , federal_five"
   ]
  },
  {
   "cell_type": "code",
   "execution_count": 27,
   "metadata": {},
   "outputs": [],
   "source": [
    "def province_income_tax_calculator_y_t_d(gross_pay):\n",
    "    if gross_pay < 46226:\n",
    "        amount = percentage(province_first, gross_pay)\n",
    "        return amount , province_first\n",
    "    elif gross_pay >= 46227 and gross_pay <= 92454:\n",
    "        first_amount = 46226\n",
    "        second_amount = gross_pay - first_amount\n",
    "        first_amount_cal = percentage(province_first, first_amount)\n",
    "        second_amount_cal = percentage(province_second, second_amount)\n",
    "        total_amount = first_amount_cal + second_amount_cal\n",
    "        return total_amount , province_second\n",
    "    elif gross_pay >= 92455 and gross_pay <= 150000:\n",
    "        first_amount = 46226\n",
    "        second_amount = 46229\n",
    "        third_amount = gross_pay - 92455\n",
    "        first_amount_cal = percentage(province_first, first_amount)\n",
    "        second_amount_cal = percentage(province_second, second_amount)\n",
    "        third_amount_cal = percentage(province_three, third_amount)\n",
    "        total_amount = first_amount_cal + second_amount_cal + third_amount_cal\n",
    "        return total_amount , province_three\n",
    "    elif gross_pay >= 150001 and gross_pay <= 220000:\n",
    "        first_amount = 46226\n",
    "        second_amount = 46229\n",
    "        third_amount = 57546\n",
    "        fourth_amount = gross_pay - 150001\n",
    "        first_amount_cal = percentage(province_first, first_amount)\n",
    "        second_amount_cal = percentage(province_second, second_amount)\n",
    "        third_amount_cal = percentage(province_three, third_amount)\n",
    "        fourth_amount_cal = percentage(province_four , fourth_amount)\n",
    "        total_amount =  first_amount_cal + second_amount_cal + third_amount_cal + fourth_amount_cal\n",
    "        return total_amount , province_four\n",
    "    elif gross_pay > 220000:\n",
    "        first_amount = 46226\n",
    "        second_amount = 46229\n",
    "        third_amount = 57546\n",
    "        fourth_amount = 69999\n",
    "        fifth_amount = gross_pay - 220000\n",
    "        first_amount_cal = percentage(province_first, first_amount)\n",
    "        second_amount_cal = percentage(province_second, second_amount)\n",
    "        third_amount_cal = percentage(province_three, third_amount)\n",
    "        fourth_amount_cal = percentage(province_four , fourth_amount)\n",
    "        fifth_amount_cal = percentage(province_five, fifth_amount)\n",
    "        total_amount =  first_amount_cal + second_amount_cal + third_amount_cal + fourth_amount_cal + fifth_amount_cal\n",
    "        return total_amount , province_five"
   ]
  },
  {
   "cell_type": "code",
   "execution_count": 28,
   "metadata": {},
   "outputs": [
    {
     "name": "stdout",
     "output_type": "stream",
     "text": [
      "86126.9135\n"
     ]
    }
   ],
   "source": [
    "a, b = federal_income_tax_calculator_y_t_d(250000)\n",
    "c, d = province_income_tax_calculator_y_t_d(250000)\n",
    "\n",
    "income_tax_y_t_d = a + c\n",
    "print(income_tax_y_t_d)"
   ]
  },
  {
   "cell_type": "code",
   "execution_count": null,
   "metadata": {},
   "outputs": [],
   "source": []
  }
 ],
 "metadata": {
  "kernelspec": {
   "display_name": "Python 3.9.13 ('base')",
   "language": "python",
   "name": "python3"
  },
  "language_info": {
   "codemirror_mode": {
    "name": "ipython",
    "version": 3
   },
   "file_extension": ".py",
   "mimetype": "text/x-python",
   "name": "python",
   "nbconvert_exporter": "python",
   "pygments_lexer": "ipython3",
   "version": "3.9.13"
  },
  "orig_nbformat": 4,
  "vscode": {
   "interpreter": {
    "hash": "dc07d24e2f18896857f0b2a651fe84ba40ce7b297e58d8804a308c8039f752a6"
   }
  }
 },
 "nbformat": 4,
 "nbformat_minor": 2
}
