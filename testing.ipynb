{
 "cells": [
  {
   "cell_type": "code",
   "execution_count": 1,
   "metadata": {},
   "outputs": [
    {
     "name": "stdout",
     "output_type": "stream",
     "text": [
      "****************************************************************************************************\n"
     ]
    }
   ],
   "source": [
    "print(\"*\"*100)"
   ]
  },
  {
   "cell_type": "code",
   "execution_count": 4,
   "metadata": {},
   "outputs": [],
   "source": [
    "from datetime import datetime, timedelta\n",
    "\n",
    "def date_range(input_date):\n",
    "    # convert input string to datetime object\n",
    "    date_obj = datetime.strptime(input_date, '%b %d %Y')\n",
    "\n",
    "    # calculate start and end dates based on input date\n",
    "    last_day = datetime(date_obj.year, date_obj.month, 1) + timedelta(days=31)\n",
    "    if last_day.month != date_obj.month:\n",
    "        end_day = last_day - timedelta(days=last_day.day - 15)\n",
    "    else:\n",
    "        end_day = datetime(date_obj.year, date_obj.month, 15)\n",
    "\n",
    "    if date_obj.day > 15:\n",
    "        start_day = datetime(date_obj.year, date_obj.month, 16)\n",
    "        next_month = date_obj.replace(day=28) + timedelta(days=4)\n",
    "        if next_month.month != date_obj.month:\n",
    "            end_day = datetime(next_month.year, next_month.month, 1) - timedelta(days=1)\n",
    "    else:\n",
    "        start_day = datetime(date_obj.year, date_obj.month, 1)\n",
    "        end_day = datetime(date_obj.year, date_obj.month, 15)\n",
    "        if start_day.weekday() >= 4:\n",
    "            end_day = datetime(date_obj.year, date_obj.month, 14)\n",
    "\n",
    "    # format dates as strings in desired format\n",
    "    start_str = start_day.strftime('%Y-%m-%d')\n",
    "    end_str = end_day.strftime('%Y-%m-%d')\n",
    "\n",
    "    return f\"{start_str} - {end_str}\""
   ]
  },
  {
   "cell_type": "code",
   "execution_count": 8,
   "metadata": {},
   "outputs": [
    {
     "name": "stdout",
     "output_type": "stream",
     "text": [
      "2023-03-01 - 2023-03-15\n"
     ]
    }
   ],
   "source": [
    "input_date = \"Mar 01 2023\"\n",
    "output_str = date_range(input_date)\n",
    "print(output_str)"
   ]
  },
  {
   "cell_type": "code",
   "execution_count": 4,
   "metadata": {},
   "outputs": [
    {
     "name": "stdout",
     "output_type": "stream",
     "text": [
      "2023-02-11\n"
     ]
    }
   ],
   "source": [
    "from datetime import datetime\n",
    "\n",
    "def checque_date(input_str):\n",
    "    date_obj = datetime.strptime(input_str, '%b %d %Y')\n",
    "    return date_obj.strftime('%Y-%m-%d')\n"
   ]
  },
  {
   "cell_type": "code",
   "execution_count": 12,
   "metadata": {},
   "outputs": [],
   "source": [
    "def format_number(num):\n",
    "    return \"{:,.2f}\".format(float(num))\n"
   ]
  },
  {
   "cell_type": "code",
   "execution_count": 16,
   "metadata": {},
   "outputs": [],
   "source": [
    "a = format_number(\"0\")"
   ]
  },
  {
   "cell_type": "code",
   "execution_count": 17,
   "metadata": {},
   "outputs": [
    {
     "data": {
      "text/plain": [
       "'0.00'"
      ]
     },
     "execution_count": 17,
     "metadata": {},
     "output_type": "execute_result"
    }
   ],
   "source": [
    "a"
   ]
  },
  {
   "cell_type": "code",
   "execution_count": 6,
   "metadata": {},
   "outputs": [],
   "source": [
    "import dateparser\n",
    "\n",
    "def calculate_year_to_date(rate, hours, period_date):\n",
    "    d = dateparser.parse(period_date)\n",
    "    current_month = d.strftime(\"%m\")\n",
    "    current_day = d.strftime(\"%d\")\n",
    "    if int(current_day) > 15:\n",
    "        periods = int(current_month) * 2\n",
    "    else:\n",
    "        periods = (int(current_month) - 1) * 2 + 1\n",
    "\n",
    "    year_t_date = rate * periods * hours\n",
    "    y_t_d = f\"{year_t_date:,}\"\n",
    "    return y_t_d"
   ]
  },
  {
   "cell_type": "code",
   "execution_count": 7,
   "metadata": {},
   "outputs": [
    {
     "data": {
      "text/plain": [
       "'70,400'"
      ]
     },
     "execution_count": 7,
     "metadata": {},
     "output_type": "execute_result"
    }
   ],
   "source": [
    "calculate_year_to_date(80, 40, \"16 nov 2022\")"
   ]
  },
  {
   "cell_type": "code",
   "execution_count": null,
   "metadata": {},
   "outputs": [],
   "source": []
  }
 ],
 "metadata": {
  "kernelspec": {
   "display_name": "base",
   "language": "python",
   "name": "python3"
  },
  "language_info": {
   "codemirror_mode": {
    "name": "ipython",
    "version": 3
   },
   "file_extension": ".py",
   "mimetype": "text/x-python",
   "name": "python",
   "nbconvert_exporter": "python",
   "pygments_lexer": "ipython3",
   "version": "3.9.13"
  },
  "orig_nbformat": 4
 },
 "nbformat": 4,
 "nbformat_minor": 2
}
